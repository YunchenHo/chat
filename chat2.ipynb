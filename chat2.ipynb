{
  "nbformat": 4,
  "nbformat_minor": 0,
  "metadata": {
    "colab": {
      "name": "chat2",
      "provenance": [],
      "collapsed_sections": [],
      "authorship_tag": "ABX9TyMQ0ZHc+4sfDbPE9vWO/E22",
      "include_colab_link": true
    },
    "kernelspec": {
      "name": "python3",
      "display_name": "Python 3"
    }
  },
  "cells": [
    {
      "cell_type": "markdown",
      "metadata": {
        "id": "view-in-github",
        "colab_type": "text"
      },
      "source": [
        "<a href=\"https://colab.research.google.com/github/YunchenHo/chat/blob/master/chat2.ipynb\" target=\"_parent\"><img src=\"https://colab.research.google.com/assets/colab-badge.svg\" alt=\"Open In Colab\"/></a>"
      ]
    },
    {
      "cell_type": "code",
      "metadata": {
        "id": "uAhpY5ph3olM",
        "colab_type": "code",
        "colab": {}
      },
      "source": [
        "#utf-8-sig編碼會把\\ufeff(編碼資料)符號去掉\n",
        "\n",
        "#清單的切割寫法:list[開始值:結束值](開始值包含,結束值不含)\n",
        "#清單前三個:list[:3](開始值為0可省略)\n",
        "#結尾:list[-2:](-2:從倒數第二個開始,結束值不寫表示到最後)\n",
        "\n",
        "def read_file(filename):\n",
        "  lines = []\n",
        "  with open(filename, 'r', encoding='utf-8-sig')as f:\n",
        "    for line in f:\n",
        "      lines.append(line.strip()) #.strip()=去掉換行符號(只能用在字串)\n",
        "  return lines\n",
        "\n",
        "\n",
        "def convert(lines): #convert=轉換\n",
        "  person = None #None=無\n",
        "  allen_word_count = 0\n",
        "  allen_sticker_count = 0\n",
        "  allen_image_count = 0\n",
        "  viki_word_count = 0\n",
        "  viki_sticker_count = 0\n",
        "  viki_image_count = 0\n",
        "  for line in lines:\n",
        "    s = line.split(' ')\n",
        "    time = s[0]\n",
        "    name = s[1]\n",
        "    if name == 'Allen':\n",
        "      if s[2] == '貼圖':\n",
        "        allen_sticker_count += 1\n",
        "      elif s[2] == '圖片':\n",
        "        allen_image_count += 1\n",
        "      else:\n",
        "        for m in s[2:]:\n",
        "          allen_word_count += len(m)\n",
        "    elif name == 'Viki':\n",
        "      if s[2] == '貼圖':\n",
        "        viki_sticker_count += 1\n",
        "      elif s[2] == '圖片':\n",
        "        viki_image_count += 1\n",
        "      else:\n",
        "        for m in s[2:]:\n",
        "          viki_word_count += len(m)\n",
        "  print('Allen說了', allen_word_count, '個字')\n",
        "  print('Allen傳了', allen_sticker_count, '個貼圖' )\n",
        "  print('Allen傳了', allen_image_count, '張圖片' )\n",
        "  \n",
        "  print('Viki說了', viki_word_count, '個字')\n",
        "  print('Viki傳了', viki_sticker_count, '個貼圖')\n",
        "  print('Viki傳了', viki_image_count, '張圖片')\n",
        "\n",
        "\n",
        "def write_file(filename, lines):\n",
        "  with open(filename, 'w') as f:\n",
        "    for line in lines:\n",
        "      f.write(line + '\\n')\n",
        "\n",
        "\n",
        "def main():\n",
        "  lines = read_file('LINE-Viki.txt') #lines=清單\n",
        "  lines = convert(lines) #將lines清單丟進參數運行第2個函式回傳new清單再存回lines(清單)(等於new清單)\n",
        "  #write_file('output.txt', lines)\n",
        "main()"
      ],
      "execution_count": null,
      "outputs": []
    },
    {
      "cell_type": "code",
      "metadata": {
        "id": "vf-VDg2r5s79",
        "colab_type": "code",
        "colab": {}
      },
      "source": [
        ""
      ],
      "execution_count": null,
      "outputs": []
    }
  ]
}