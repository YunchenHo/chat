{
  "nbformat": 4,
  "nbformat_minor": 0,
  "metadata": {
    "colab": {
      "name": "chat",
      "provenance": [],
      "collapsed_sections": [],
      "authorship_tag": "ABX9TyNOgUd+2Cd1EI9csfSsskGm",
      "include_colab_link": true
    },
    "kernelspec": {
      "name": "python3",
      "display_name": "Python 3"
    }
  },
  "cells": [
    {
      "cell_type": "markdown",
      "metadata": {
        "id": "view-in-github",
        "colab_type": "text"
      },
      "source": [
        "<a href=\"https://colab.research.google.com/github/YunchenHo/chat/blob/master/chat.ipynb\" target=\"_parent\"><img src=\"https://colab.research.google.com/assets/colab-badge.svg\" alt=\"Open In Colab\"/></a>"
      ]
    },
    {
      "cell_type": "code",
      "metadata": {
        "id": "X-Pp1hJHBj4p",
        "colab_type": "code",
        "colab": {}
      },
      "source": [
        "#utf-8-sig編碼會把\\ufeff(編碼資料)符號去掉\n",
        "def read_file(filename):\n",
        "  lines = []\n",
        "  with open(filename, 'r', encoding='utf-8-sig')as f:\n",
        "    for line in f:\n",
        "      lines.append(line.strip()) #.strip()=去掉換行符號(只能用在字串)\n",
        "  return lines\n",
        "\n",
        "def convert(lines): #convert=轉換\n",
        "  new = []\n",
        "  person = None #None=無\n",
        "  for line in lines:\n",
        "    if line == 'Allen':\n",
        "      person = 'Allen'\n",
        "      continue\n",
        "    elif line == 'Tom':\n",
        "      person = 'Tom'\n",
        "      continue\n",
        "    if person: #如果person有值的話\n",
        "      new.append(person + ':' + line)#+號可讓多個字串合為一個字串\n",
        "  return new\n",
        "\n",
        "def write_file(filename, lines):\n",
        "  with open(filename, 'w') as f:\n",
        "    for line in lines:\n",
        "      f.write(line + '\\n')\n",
        "\n",
        "def main():\n",
        "  lines = read_file('input.txt') #lines=清單\n",
        "  lines = convert(lines) #將lines清單丟進參數運行第2個函式回傳new清單再存回lines(清單)(等於new清單)\n",
        "  write_file('output.txt', lines)\n",
        "main()"
      ],
      "execution_count": 13,
      "outputs": []
    },
    {
      "cell_type": "code",
      "metadata": {
        "id": "n46R7hb6_Odx",
        "colab_type": "code",
        "colab": {}
      },
      "source": [
        "#utf-8-sig編碼會把\\ufeff(編碼資料)符號去掉\n",
        "def read_file(filename):\n",
        "  chat = []\n",
        "  with open(filename, 'r', encoding='utf-8-sig')as f:\n",
        "    for line in f:\n",
        "      chat.append(line.strip())\n",
        "  return chat\n",
        "\n",
        "# practice(sister)\n",
        "# def output():\n",
        "#   temp = read_file()\n",
        "#   chat3 = []\n",
        "#   for i in range(len(temp)):\n",
        "#     if temp[i].encode('UTF-8').isalpha():\n",
        "#       chat3.append([temp[i],temp[i+1]])\n",
        "#       if i+2 < len(temp):\n",
        "#         if temp[i+2].encode( 'UTF-8' ).isalpha() == False:\n",
        "#           chat3.append([temp[i],temp[i+2]])\n",
        "#       else:\n",
        "#         continue\n",
        "#     else:\n",
        "#       continue\n",
        "#   with open('output.txt', 'w', encoding='utf-8')as fil:\n",
        "#     for n in chat3:\n",
        "#       fil.write(n[0] + ':' + n[1] + '\\n') \n",
        "\n",
        "def read_file2(filename2):\n",
        "  chat2 = []\n",
        "  new = []\n",
        "  count = 0\n",
        "  with open(filename2, 'r', encoding='utf-8-sig')as fi:\n",
        "    for lines in fi:\n",
        "      chat2.append(lines.strip())\n",
        "    while True:  \n",
        "      new.append([chat2[count], chat2[count+1]])\n",
        "      count += 2\n",
        "      if count > 15:\n",
        "        break\n",
        "  return new\n",
        "  \n",
        "def write_file(new):\n",
        "  with open('output.txt', 'w', encoding='utf-8')as fil:\n",
        "    for n in new:\n",
        "      fil.write(n[0] + ':' + n[1] + '\\n')\n",
        "\n",
        "def main():\n",
        "  # output()\n",
        "  chat = read_file('input.txt')\n",
        "  new = read_file2('input2.txt')\n",
        "  write_file(new)\n",
        "main()"
      ],
      "execution_count": 10,
      "outputs": []
    }
  ]
}