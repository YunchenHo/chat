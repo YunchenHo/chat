{
  "nbformat": 4,
  "nbformat_minor": 0,
  "metadata": {
    "colab": {
      "name": "chat-3",
      "provenance": [],
      "collapsed_sections": [],
      "authorship_tag": "ABX9TyP6AAEJv57EPtorvbftcrm+",
      "include_colab_link": true
    },
    "kernelspec": {
      "name": "python3",
      "display_name": "Python 3"
    }
  },
  "cells": [
    {
      "cell_type": "markdown",
      "metadata": {
        "id": "view-in-github",
        "colab_type": "text"
      },
      "source": [
        "<a href=\"https://colab.research.google.com/github/YunchenHo/chat/blob/master/chat_3.ipynb\" target=\"_parent\"><img src=\"https://colab.research.google.com/assets/colab-badge.svg\" alt=\"Open In Colab\"/></a>"
      ]
    },
    {
      "cell_type": "code",
      "metadata": {
        "id": "RKjzTBEai_nl",
        "colab_type": "code",
        "colab": {}
      },
      "source": [
        "#可以將字串當作是清單(str=list)\n",
        "#清單的分割也可以用於字串\n",
        "lines = []\n",
        "with open('3.txt', 'r', encoding='utf-8-sig')as f:\n",
        "  for line in f:\n",
        "    lines.append(line.strip())\n",
        "for line in lines:\n",
        "  s = line.split(' ')\n",
        "  time = s[0][:5]#0,1,2,3,4\n",
        "  name = s[0][5:]\n",
        "  print(name)"
      ],
      "execution_count": null,
      "outputs": []
    },
    {
      "cell_type": "code",
      "metadata": {
        "id": "bbm3zVWjkQN9",
        "colab_type": "code",
        "colab": {}
      },
      "source": [
        ""
      ],
      "execution_count": null,
      "outputs": []
    }
  ]
}